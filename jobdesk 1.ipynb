{
 "cells": [
  {
   "cell_type": "code",
   "execution_count": 1,
   "id": "7952d570-4102-4728-936c-b674ce21ebd5",
   "metadata": {},
   "outputs": [
    {
     "name": "stdout",
     "output_type": "stream",
     "text": [
      "Taza 20 Caruban 3.79\n"
     ]
    }
   ],
   "source": [
    "siswa = \"Taza\"\n",
    "umur = \"20\"\n",
    "alamat = \"Caruban\"\n",
    "IPK = 3.79\n",
    "\n",
    "print(siswa, umur, alamat, IPK)"
   ]
  },
  {
   "cell_type": "code",
   "execution_count": null,
   "id": "eaedaa5c-9be1-452d-9ca9-500b83fa0c9b",
   "metadata": {},
   "outputs": [],
   "source": [
    "siswa = str(input(\"Masukkan nama siswa : \"))\n",
    "ummur = int(input(\"Masukkan umur : \"))\n",
    "alamat = str(input(\"Masukkan alamat : \"))\n",
    "IPK = str(input(\"Masukkan IPK : \"))"
   ]
  },
  {
   "cell_type": "code",
   "execution_count": 3,
   "id": "e25ab125-a818-4cee-9684-a092b7b1c6bc",
   "metadata": {},
   "outputs": [
    {
     "name": "stdout",
     "output_type": "stream",
     "text": [
      "Taza 20 Madiun #,9\n"
     ]
    }
   ],
   "source": [
    "print(siswa,umur,alamat,IPK)"
   ]
  },
  {
   "cell_type": "code",
   "execution_count": null,
   "id": "6892783f-78b9-41a0-80ac-fe4987d565a2",
   "metadata": {},
   "outputs": [],
   "source": [
    "mata_kuliah = [\"Statistik\", \"PBO\", \"PemWeb\", \"Jaringan\", \"Mikrokontroller\"]\n",
    "uns_madiun = [\"TIF\", \"AKT\", \"THP\", 2020, 500, 3,5]\n",
    "\n",
    "print(len(uns_madiun))\n"
   ]
  },
  {
   "cell_type": "code",
   "execution_count": null,
   "id": "fd721a29-00a1-4a6e-b786-fc9db0b34786",
   "metadata": {},
   "outputs": [],
   "source": []
  }
 ],
 "metadata": {
  "kernelspec": {
   "display_name": "Python 3 (ipykernel)",
   "language": "python",
   "name": "python3"
  },
  "language_info": {
   "codemirror_mode": {
    "name": "ipython",
    "version": 3
   },
   "file_extension": ".py",
   "mimetype": "text/x-python",
   "name": "python",
   "nbconvert_exporter": "python",
   "pygments_lexer": "ipython3",
   "version": "3.12.7"
  }
 },
 "nbformat": 4,
 "nbformat_minor": 5
}
