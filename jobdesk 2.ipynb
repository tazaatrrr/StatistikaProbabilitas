{
 "cells": [
  {
   "cell_type": "code",
   "execution_count": null,
   "id": "2621b554-822f-41f2-b742-2deecba3e5dd",
   "metadata": {},
   "outputs": [],
   "source": [
    "import numpy as np\n",
    "import pandas as pd\n",
    "import matplotlib.pyplot as plt\n",
    "import seaborn as sns\n",
    "\n",
    "#Paramete distribusi\n",
    "mean = 170 #Rata-rata tinggi badan\n",
    "std_dev = 10 #Standar deviasi\n",
    "sample_size = 1000 #jumlah sample\n",
    "\n",
    "#Bangkitkan data tinggi badan\n",
    "heights = np.random.normal(mean,std_dev, sample_size)\n",
    "#Buat DataFrame\n",
    "df = pd.DataFrame(heights, columns=['Tinggi Badan'])\n",
    "#tampilkan 5 baris pertama\n",
    "print(df.head())\n",
    "\n",
    "#plot histogram\n",
    "plt.figure(figsize=(8,6))\n",
    "sns."
   ]
  }
 ],
 "metadata": {
  "kernelspec": {
   "display_name": "Python 3 (ipykernel)",
   "language": "python",
   "name": "python3"
  },
  "language_info": {
   "codemirror_mode": {
    "name": "ipython",
    "version": 3
   },
   "file_extension": ".py",
   "mimetype": "text/x-python",
   "name": "python",
   "nbconvert_exporter": "python",
   "pygments_lexer": "ipython3",
   "version": "3.12.7"
  }
 },
 "nbformat": 4,
 "nbformat_minor": 5
}
